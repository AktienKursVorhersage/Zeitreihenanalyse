{
 "cells": [
  {
   "cell_type": "code",
   "execution_count": 1,
   "metadata": {},
   "outputs": [
    {
     "data": {
      "text/html": [
       "<div>\n",
       "<style scoped>\n",
       "    .dataframe tbody tr th:only-of-type {\n",
       "        vertical-align: middle;\n",
       "    }\n",
       "\n",
       "    .dataframe tbody tr th {\n",
       "        vertical-align: top;\n",
       "    }\n",
       "\n",
       "    .dataframe thead th {\n",
       "        text-align: right;\n",
       "    }\n",
       "</style>\n",
       "<table border=\"1\" class=\"dataframe\">\n",
       "  <thead>\n",
       "    <tr style=\"text-align: right;\">\n",
       "      <th></th>\n",
       "      <th>Date</th>\n",
       "      <th>Open</th>\n",
       "      <th>High</th>\n",
       "      <th>Low</th>\n",
       "      <th>Close</th>\n",
       "      <th>Adj Close</th>\n",
       "      <th>Volume</th>\n",
       "    </tr>\n",
       "  </thead>\n",
       "  <tbody>\n",
       "    <tr>\n",
       "      <th>0</th>\n",
       "      <td>1998-07-22</td>\n",
       "      <td>63.148163</td>\n",
       "      <td>65.053703</td>\n",
       "      <td>63.148163</td>\n",
       "      <td>64.596451</td>\n",
       "      <td>34.570709</td>\n",
       "      <td>56336</td>\n",
       "    </tr>\n",
       "    <tr>\n",
       "      <th>1</th>\n",
       "      <td>1998-07-23</td>\n",
       "      <td>65.308174</td>\n",
       "      <td>65.816116</td>\n",
       "      <td>61.750568</td>\n",
       "      <td>61.750568</td>\n",
       "      <td>33.047661</td>\n",
       "      <td>95571</td>\n",
       "    </tr>\n",
       "    <tr>\n",
       "      <th>2</th>\n",
       "      <td>1998-07-24</td>\n",
       "      <td>60.988155</td>\n",
       "      <td>62.258514</td>\n",
       "      <td>59.869881</td>\n",
       "      <td>61.496101</td>\n",
       "      <td>32.911476</td>\n",
       "      <td>154423</td>\n",
       "    </tr>\n",
       "    <tr>\n",
       "      <th>3</th>\n",
       "      <td>1998-07-27</td>\n",
       "      <td>61.496101</td>\n",
       "      <td>62.005039</td>\n",
       "      <td>59.463329</td>\n",
       "      <td>59.717796</td>\n",
       "      <td>31.959759</td>\n",
       "      <td>62875</td>\n",
       "    </tr>\n",
       "    <tr>\n",
       "      <th>4</th>\n",
       "      <td>1998-07-28</td>\n",
       "      <td>59.209850</td>\n",
       "      <td>61.445404</td>\n",
       "      <td>57.837109</td>\n",
       "      <td>58.294357</td>\n",
       "      <td>31.197968</td>\n",
       "      <td>116194</td>\n",
       "    </tr>\n",
       "  </tbody>\n",
       "</table>\n",
       "</div>"
      ],
      "text/plain": [
       "         Date       Open       High        Low      Close  Adj Close  Volume\n",
       "0  1998-07-22  63.148163  65.053703  63.148163  64.596451  34.570709   56336\n",
       "1  1998-07-23  65.308174  65.816116  61.750568  61.750568  33.047661   95571\n",
       "2  1998-07-24  60.988155  62.258514  59.869881  61.496101  32.911476  154423\n",
       "3  1998-07-27  61.496101  62.005039  59.463329  59.717796  31.959759   62875\n",
       "4  1998-07-28  59.209850  61.445404  57.837109  58.294357  31.197968  116194"
      ]
     },
     "execution_count": 1,
     "metadata": {},
     "output_type": "execute_result"
    }
   ],
   "source": [
    "import numpy as np\n",
    "import pandas as pd\n",
    "import matplotlib.pyplot as plt\n",
    "# Load the dataset using pandas\n",
    "data = pd.read_csv(\"VOW3DE.csv\")\n",
    "data.head(5)"
   ]
  },
  {
   "cell_type": "code",
   "execution_count": null,
   "metadata": {},
   "outputs": [],
   "source": []
  },
  {
   "cell_type": "code",
   "execution_count": null,
   "metadata": {},
   "outputs": [],
   "source": []
  }
 ],
 "metadata": {
  "kernelspec": {
   "display_name": "Python 3",
   "language": "python",
   "name": "python3"
  },
  "language_info": {
   "codemirror_mode": {
    "name": "ipython",
    "version": 3
   },
   "file_extension": ".py",
   "mimetype": "text/x-python",
   "name": "python",
   "nbconvert_exporter": "python",
   "pygments_lexer": "ipython3",
   "version": "3.8.5"
  }
 },
 "nbformat": 4,
 "nbformat_minor": 4
}
